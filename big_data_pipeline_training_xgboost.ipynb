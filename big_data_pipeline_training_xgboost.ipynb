{
  "nbformat": 4,
  "nbformat_minor": 0,
  "metadata": {
    "colab": {
      "private_outputs": true,
      "provenance": [],
      "collapsed_sections": [
        "jK47sI5GwLd3",
        "AR_mD6XxxgUx"
      ],
      "authorship_tag": "ABX9TyOLEj7B7yBaR7mWdqB7dNwp",
      "include_colab_link": true
    },
    "kernelspec": {
      "name": "python3",
      "display_name": "Python 3"
    },
    "language_info": {
      "name": "python"
    },
    "accelerator": "GPU",
    "gpuClass": "standard"
  },
  "cells": [
    {
      "cell_type": "markdown",
      "metadata": {
        "id": "view-in-github",
        "colab_type": "text"
      },
      "source": [
        "<a href=\"https://colab.research.google.com/github/nikhiltree/Labs/blob/master/big_data_pipeline_training_xgboost.ipynb\" target=\"_parent\"><img src=\"https://colab.research.google.com/assets/colab-badge.svg\" alt=\"Open In Colab\"/></a>"
      ]
    },
    {
      "cell_type": "code",
      "execution_count": null,
      "metadata": {
        "id": "P6zkbEgntqGb"
      },
      "outputs": [],
      "source": [
        "import datetime\n",
        "print(\"nikhil\")"
      ]
    },
    {
      "cell_type": "code",
      "source": [
        "!nvidia-smi\n"
      ],
      "metadata": {
        "id": "mp2rCKPXUxdZ"
      },
      "execution_count": null,
      "outputs": []
    },
    {
      "cell_type": "code",
      "source": [
        "# !pip install colab-xterm\n",
        "# %load_ext colabxterm\n",
        "# %xterm"
      ],
      "metadata": {
        "id": "lKkhyIN9Rd-N"
      },
      "execution_count": null,
      "outputs": []
    },
    {
      "cell_type": "code",
      "source": [
        "\n",
        "!pip install wandb\n",
        "import wandb\n",
        "api_key=\"c61cdde2a3147e953ebd7c4d304a16a37a0396ab\"\n",
        "!wandb login --relogin\n",
        "wandb.init(project=\"gpu_tracking_feature_tracking\")\n"
      ],
      "metadata": {
        "id": "6dusysW3vkDp"
      },
      "execution_count": null,
      "outputs": []
    },
    {
      "cell_type": "code",
      "source": [
        "!pip install python-dateutil==1.4\n",
        "!pip install darts\n",
        "!pip install tslearn"
      ],
      "metadata": {
        "id": "5vF-vqmd5n4o"
      },
      "execution_count": null,
      "outputs": []
    },
    {
      "cell_type": "code",
      "source": [
        "!python -m pip uninstall matplotlib -y\n",
        "\n",
        "!pip install  matplotlib==3.1.3"
      ],
      "metadata": {
        "id": "4r8Icav4jaoP"
      },
      "execution_count": null,
      "outputs": []
    },
    {
      "cell_type": "code",
      "source": [
        "from google.colab import drive\n",
        "drive.mount('/content/drive')"
      ],
      "metadata": {
        "id": "0SgZg4ft2ElA"
      },
      "execution_count": null,
      "outputs": []
    },
    {
      "cell_type": "code",
      "execution_count": null,
      "metadata": {
        "id": "8UzXHg5k1Izk"
      },
      "outputs": [],
      "source": [
        "import pandas as pd\n",
        "import datetime\n",
        "from xgboost import XGBRegressor\n",
        "from sklearn.ensemble import RandomForestRegressor\n",
        "import plotly.express as px\n",
        "import numpy as np\n",
        "import traceback\n",
        "from sklearn.preprocessing import MinMaxScaler\n",
        "from tslearn.svm import TimeSeriesSVR\n",
        "\n",
        "from darts import TimeSeries\n",
        "import matplotlib.pyplot as plt\n",
        "from darts.utils.timeseries_generation import datetime_attribute_timeseries\n",
        "from darts import TimeSeries\n",
        "from darts.utils.timeseries_generation import gaussian_timeseries, linear_timeseries, sine_timeseries\n",
        "from darts.models import RNNModel, TCNModel, TransformerModel, NBEATSModel, BlockRNNModel\n",
        "from darts.metrics import mape, smape\n",
        "from sklearn.model_selection import GridSearchCV\n",
        "from sklearn.model_selection import train_test_split\n",
        "from datetime import datetime, timedelta\n",
        "import pandas as pd"
      ]
    },
    {
      "cell_type": "code",
      "execution_count": null,
      "metadata": {
        "id": "q3z0y7CT1Izm"
      },
      "outputs": [],
      "source": [
        "def acc_measure(y_true=None,y_hat=None):\n",
        "    total_true = 0\n",
        "    total_datapoint = len(y_true)\n",
        "    for i in range(total_datapoint):\n",
        "        abs_diff = abs((y_true[i]-y_hat[i]))\n",
        "        y_10 = (y_true[i]/10)\n",
        "        if abs_diff <= (y_10):\n",
        "            total_true = total_true+1\n",
        "    return round((total_true*100/total_datapoint),2)"
      ]
    },
    {
      "cell_type": "code",
      "source": [],
      "metadata": {
        "id": "ke3wL8LOJm8W"
      },
      "execution_count": null,
      "outputs": []
    },
    {
      "cell_type": "markdown",
      "source": [
        "### File Read"
      ],
      "metadata": {
        "id": "0hpEs3pwAaFV"
      }
    },
    {
      "cell_type": "code",
      "source": [
        "filename=\"/content/drive/MyDrive/Colab Notebooks/gmr_big_data/gmr_big_data_area_volume_temperature.csv\""
      ],
      "metadata": {
        "id": "Ruzl3QihAeOh"
      },
      "execution_count": null,
      "outputs": []
    },
    {
      "cell_type": "code",
      "source": [
        "chunksize = 10 ** 4\n",
        "list_dfs=[]\n",
        "with pd.read_csv(filename, chunksize=chunksize) as reader:\n",
        "    for chunk in reader:\n",
        "        list_dfs.append(chunk)"
      ],
      "metadata": {
        "id": "DK8C6rw6AZvS"
      },
      "execution_count": null,
      "outputs": []
    },
    {
      "cell_type": "code",
      "source": [
        "df_ori=pd.concat(list_dfs,axis=0)"
      ],
      "metadata": {
        "id": "y-3R2PcmBVrt"
      },
      "execution_count": null,
      "outputs": []
    },
    {
      "cell_type": "code",
      "execution_count": null,
      "metadata": {
        "id": "8aPl-hrM1Izn"
      },
      "outputs": [],
      "source": [
        "# df_ori=pd.read_csv(\"/content/drive/MyDrive/Colab Notebooks/region_wise_data/data_preparation_filter_region_volume.csv\",thousands=',')"
      ]
    },
    {
      "cell_type": "code",
      "source": [
        "df_ori.columns"
      ],
      "metadata": {
        "id": "s-7_o-gdZ4mG"
      },
      "execution_count": null,
      "outputs": []
    },
    {
      "cell_type": "code",
      "source": [
        "df_ori.head()"
      ],
      "metadata": {
        "id": "PwDXpYx9TGDT"
      },
      "execution_count": null,
      "outputs": []
    },
    {
      "cell_type": "code",
      "source": [
        "df_ori['Time Block and Date']=df_ori['Time Block and Date'].astype(str)"
      ],
      "metadata": {
        "id": "NepVJciRj62j"
      },
      "execution_count": null,
      "outputs": []
    },
    {
      "cell_type": "code",
      "source": [
        "start_date=\"2021-01-03 00:00:00\"\n",
        "end_date=\"2021-04-30 00:00:00\""
      ],
      "metadata": {
        "id": "cYBqfOlmkWHD"
      },
      "execution_count": null,
      "outputs": []
    },
    {
      "cell_type": "code",
      "source": [
        "def select_data_range_wise(df0=None,start_date=None,end_date=None):\n",
        "  df0['Time Block and Date']=df0['Time Block and Date'].apply(lambda x: x.split(\" \")[0]+\" \"+x.split(\" \")[1].split(\" \")[0])\n",
        "  df0['Time Block and Date']=pd.to_datetime(df0[\"Time Block and Date\"],format=\"%Y-%m-%d %H:%M\")\n",
        "  start_date = datetime.strptime(start_date, \"%Y-%m-%d %H:%M:%S\")\n",
        "  end_date = datetime.strptime(end_date, \"%Y-%m-%d %H:%M:%S\")\n",
        "  df0.drop(\"Time Block\",axis=1,inplace=True)\n",
        "  print(start_date)\n",
        "  print(end_date)\n",
        "  target_df0=df0[(df0[\"Time Block and Date\"]<=end_date) & (df0[\"Time Block and Date\"]>=start_date)].reset_index(0,drop=True)\n",
        "  return target_df0"
      ],
      "metadata": {
        "id": "YfntmczDkMx7"
      },
      "execution_count": null,
      "outputs": []
    },
    {
      "cell_type": "code",
      "source": [
        "df=select_data_range_wise(df0=df_ori.copy(),start_date=start_date,end_date=end_date)"
      ],
      "metadata": {
        "id": "69No7-qEmpIf"
      },
      "execution_count": null,
      "outputs": []
    },
    {
      "cell_type": "code",
      "source": [
        "df.tail()"
      ],
      "metadata": {
        "id": "3Vwg6xNu5cVZ"
      },
      "execution_count": null,
      "outputs": []
    },
    {
      "cell_type": "code",
      "source": [
        "df=df.drop(axis=1,labels=\"MCV_Buy\")"
      ],
      "metadata": {
        "id": "Iib7pthddIOy"
      },
      "execution_count": null,
      "outputs": []
    },
    {
      "cell_type": "code",
      "execution_count": null,
      "metadata": {
        "id": "aMpWRwfT1Izn"
      },
      "outputs": [],
      "source": [
        "df.info()"
      ]
    },
    {
      "cell_type": "code",
      "execution_count": null,
      "metadata": {
        "id": "zcNwG9fo1Izo"
      },
      "outputs": [],
      "source": [
        "df.head()"
      ]
    },
    {
      "cell_type": "markdown",
      "source": [
        "## Feature Importance"
      ],
      "metadata": {
        "id": "2oVFzFWMZySA"
      }
    },
    {
      "cell_type": "code",
      "source": [
        "def spilting_data_for_xgb(df=None,intial_columns=2):\n",
        "  X_feature=df.iloc[:,intial_columns:-1]\n",
        "  y_target=df.iloc[:,-1]\n",
        "  return X_feature,y_target"
      ],
      "metadata": {
        "id": "gVNDttXrNJvZ"
      },
      "execution_count": null,
      "outputs": []
    },
    {
      "cell_type": "code",
      "source": [
        "def get_the_parameter_xgb():\n",
        "  parameters = {#when use hyperthread, xgboost may become slower\n",
        "              'objective':['reg:linear'],\n",
        "              'learning_rate': [0.01,0.02,0.03], #so called `eta` value\n",
        "              'max_depth': [1,2,3,4,5,10],\n",
        "              'min_child_weight': [30,40,50,100],\n",
        "              'silent': [0],\n",
        "              'subsample': [0.4,0.5,0.6,0.7],\n",
        "              'colsample_bytree': [0.6,0.7,0.8],\n",
        "              'n_estimators': [5,8,10,20,30,40]\n",
        "              }\n",
        "  return parameters\n",
        "\n",
        "      \n"
      ],
      "metadata": {
        "id": "HPhg9DgNZwkf"
      },
      "execution_count": null,
      "outputs": []
    },
    {
      "cell_type": "code",
      "source": [
        "def get_the_parameter_rf():\n",
        "# Create the parameter grid based on the results of random search \n",
        "  param_grid = {\n",
        "      'bootstrap': [True],\n",
        "      'max_depth': [80, 90, 100, 110],\n",
        "      'max_features': [2, 3],\n",
        "      'min_samples_leaf': [3, 4, 5],\n",
        "      'min_samples_split': [8, 10, 12],\n",
        "      'n_estimators': [100, 200, 300, 1000]\n",
        "  }\n",
        "\n",
        "  return param_grid"
      ],
      "metadata": {
        "id": "DoRSlJmww-XI"
      },
      "execution_count": null,
      "outputs": []
    },
    {
      "cell_type": "code",
      "source": [
        "def get_model_rf():\n",
        "    rf = RandomForestRegressor()\n",
        "    return rf"
      ],
      "metadata": {
        "id": "dMXDxed1xF9O"
      },
      "execution_count": null,
      "outputs": []
    },
    {
      "cell_type": "code",
      "source": [
        "def get_model():\n",
        "    xgb1 = XGBRegressor(gpu_id=0)\n",
        "    return xgb1"
      ],
      "metadata": {
        "id": "jqqJXWlkOYNu"
      },
      "execution_count": null,
      "outputs": []
    },
    {
      "cell_type": "code",
      "source": [
        "def get_model_parameter_set(parameters=None):\n",
        "    xgb1 = XGBRegressor(gpu_id=0,parameters=None)\n",
        "    return xgb1"
      ],
      "metadata": {
        "id": "olu8LPmnUv1F"
      },
      "execution_count": null,
      "outputs": []
    },
    {
      "cell_type": "code",
      "source": [
        "def get_model_grid_search(model=None,parameters=None,cv=10):\n",
        "\n",
        "  xgb_grid = GridSearchCV(model,\n",
        "                          param_grid=parameters,\n",
        "                          cv = cv,\n",
        "                          verbose=2,scoring='neg_mean_absolute_error')\n",
        "  \n",
        "  return xgb_grid\n",
        "  \n"
      ],
      "metadata": {
        "id": "81CKC2kaOC0h"
      },
      "execution_count": null,
      "outputs": []
    },
    {
      "cell_type": "code",
      "source": [
        "def get_best_param(model_grid=None,X_feature=None,y_target=None):\n",
        "\n",
        "  model_grid.fit(X_feature,y_target)\n",
        "\n",
        "  # print(model_grid.best_score_) \n",
        "  print(model_grid.best_params_)\n",
        "\n",
        "  return model_grid.best_params_"
      ],
      "metadata": {
        "id": "0zAHFvDlOjMt"
      },
      "execution_count": null,
      "outputs": []
    },
    {
      "cell_type": "code",
      "source": [
        "def hyperparameter_model_fit(model=None,X_feature=None,y_target=None):\n",
        "  \n",
        "  model.fit(X_feature,y_target)\n",
        "\n",
        "  return model\n"
      ],
      "metadata": {
        "id": "aLfN6jQhbpkl"
      },
      "execution_count": null,
      "outputs": []
    },
    {
      "cell_type": "code",
      "source": [
        "def get_importance_feature(model=None,columns=None):\n",
        "    sorted_idx = model.feature_importances_.argsort()[::-1]\n",
        "    return columns[sorted_idx][:100]"
      ],
      "metadata": {
        "id": "rSbNKRZWhUaM"
      },
      "execution_count": null,
      "outputs": []
    },
    {
      "cell_type": "code",
      "source": [
        "def plot_importance_feature(model=None,columns=None):\n",
        "  plt.figure(figsize=(10,10))\n",
        "  sorted_idx = model.feature_importances_.argsort()\n",
        "  plt.barh(columns[sorted_idx], model.feature_importances_[sorted_idx])\n",
        "  plt.xlabel(\"Xgboost Feature Importance\")"
      ],
      "metadata": {
        "id": "vSnm8GyqbSoU"
      },
      "execution_count": null,
      "outputs": []
    },
    {
      "cell_type": "markdown",
      "source": [
        "## based model training"
      ],
      "metadata": {
        "id": "8TwmfWGuSoyO"
      }
    },
    {
      "cell_type": "code",
      "source": [
        "X_features,y_train=spilting_data_for_xgb(df=df)\n",
        "xgb_model=get_model()\n",
        "hyperpameter=get_the_parameter_xgb()\n",
        "\n",
        "grid_model=get_model_grid_search(model=xgb_model,parameters=hyperpameter)\n",
        "best_params=get_best_param(grid_model,X_features,y_train)\n",
        "\n",
        "model_best=get_model_parameter_set(parameters=best_params)\n",
        "model_best=hyperparameter_model_fit(model=model_best,X_feature=X_features,y_target=y_train)\n",
        "\n",
        "best_feature_list=get_importance_feature(model=model_best,columns=X_features.columns)\n",
        "\n",
        "plot_importance_feature(model=model_best,columns=X_features.columns)"
      ],
      "metadata": {
        "id": "oZAIs4NESOOC"
      },
      "execution_count": null,
      "outputs": []
    },
    {
      "cell_type": "code",
      "source": [
        "best_params"
      ],
      "metadata": {
        "id": "4IN_jAPwYWT7"
      },
      "execution_count": null,
      "outputs": []
    },
    {
      "cell_type": "code",
      "source": [
        "best_feature_list=best_feature_list.to_list()\n",
        "\n"
      ],
      "metadata": {
        "id": "bFx0NGFuYAsA"
      },
      "execution_count": null,
      "outputs": []
    },
    {
      "cell_type": "code",
      "source": [
        "best_feature_list=['MCP (Rs/MWh) ', 'W2_Sell', 'W1_Sell']"
      ],
      "metadata": {
        "id": "jHg0sWhTZ5ME"
      },
      "execution_count": null,
      "outputs": []
    },
    {
      "cell_type": "code",
      "source": [
        "# best_params={'colsample_bytree': 0.7,\n",
        "#  'learning_rate': 0.05,\n",
        "#  'max_depth': 6,\n",
        "#  'min_child_weight': 4,\n",
        "#  'n_estimators': 120,\n",
        "#  'objective': 'reg:linear',\n",
        "#  'silent': 1,\n",
        "#  'subsample': 0.7}"
      ],
      "metadata": {
        "id": "7ebsF4l_YSee"
      },
      "execution_count": null,
      "outputs": []
    },
    {
      "cell_type": "markdown",
      "metadata": {
        "id": "0qLcAdgJ1Izp"
      },
      "source": [
        "## date extraction and conversion object to date "
      ]
    },
    {
      "cell_type": "code",
      "execution_count": null,
      "metadata": {
        "id": "-tsrwTZh1Izq"
      },
      "outputs": [],
      "source": [
        "df.info()"
      ]
    },
    {
      "cell_type": "code",
      "execution_count": null,
      "metadata": {
        "id": "_M1IOpBY1Izr"
      },
      "outputs": [],
      "source": [
        "\n",
        "df.columns"
      ]
    },
    {
      "cell_type": "markdown",
      "source": [
        "### Columns selection for training"
      ],
      "metadata": {
        "id": "2IP_dIhe3UvR"
      }
    },
    {
      "cell_type": "code",
      "source": [
        "columns=[\"Time Block and Date\"]+best_feature_list+[\"Target MCP\"]"
      ],
      "metadata": {
        "id": "Y0Fa1OcJ32ba"
      },
      "execution_count": null,
      "outputs": []
    },
    {
      "cell_type": "code",
      "source": [
        "def columns_selection_df(df=None,columns_list=None):\n",
        "  df1=df[columns]\n",
        "  return df1"
      ],
      "metadata": {
        "id": "Uba0tmv42npn"
      },
      "execution_count": null,
      "outputs": []
    },
    {
      "cell_type": "code",
      "source": [
        "df1=df[columns]"
      ],
      "metadata": {
        "id": "HD-ihjiB31N1"
      },
      "execution_count": null,
      "outputs": []
    },
    {
      "cell_type": "code",
      "source": [
        "df1"
      ],
      "metadata": {
        "id": "kcET9ghQ5huy"
      },
      "execution_count": null,
      "outputs": []
    },
    {
      "cell_type": "code",
      "source": [
        "df1.columns"
      ],
      "metadata": {
        "id": "2FFHjbGkXSJu"
      },
      "execution_count": null,
      "outputs": []
    },
    {
      "cell_type": "code",
      "source": [
        "df1.head()"
      ],
      "metadata": {
        "id": "HZszaxT-XUtG"
      },
      "execution_count": null,
      "outputs": []
    },
    {
      "cell_type": "code",
      "source": [
        "df1.info()"
      ],
      "metadata": {
        "id": "gR6mmwQfiNUS"
      },
      "execution_count": null,
      "outputs": []
    },
    {
      "cell_type": "markdown",
      "source": [
        "## Training and Testing Data Generation\n",
        "\n"
      ],
      "metadata": {
        "id": "tseW4z6jTgVr"
      }
    },
    {
      "cell_type": "markdown",
      "source": [
        "### Method 1: Training Data Generation split(Example: Train 0.80 and Test 0.20)"
      ],
      "metadata": {
        "id": "XoxztJTmekZi"
      }
    },
    {
      "cell_type": "code",
      "source": [
        "def get_index_test_date(df,test_size=None):\n",
        "  date_list=df.iloc[:,0]\n",
        "  date_list=date_list.tail(int(len(df)*(test_size)))\n",
        "  return date_list"
      ],
      "metadata": {
        "id": "8Fs9gjeDT31s"
      },
      "execution_count": null,
      "outputs": []
    },
    {
      "cell_type": "code",
      "source": [
        "def default_training_test_generation(first_skip_columns=1,df0=None):\n",
        "  X=df0.iloc[:,first_skip_columns:-1]\n",
        "  y=df0.iloc[:,-1]\n",
        "  return X,y\n",
        "\n",
        "def train_split_data(X=None,y=None,test_size=None):\n",
        "  X_train, X_test, y_train, y_test = train_test_split(X, y, test_size=test_size, random_state=0,shuffle=False)\n",
        "  return X_train,X_test,y_train,y_test\n",
        "   "
      ],
      "metadata": {
        "id": "R-4LUJjhTlCq"
      },
      "execution_count": null,
      "outputs": []
    },
    {
      "cell_type": "markdown",
      "source": [
        "### Method 2: Select test date  and pervious all day training"
      ],
      "metadata": {
        "id": "_O5bHga2hJfA"
      }
    },
    {
      "cell_type": "code",
      "source": [
        "def selection_test_date_data_generation(df0=None,test_date=None):\n",
        "  training_last_date=test_date-timedelta(days=1)\n",
        "  print(training_last_date)\n",
        "  temp_df=df0[df0['Time Block and Date']<=test_date].reset_index(0,drop=True)\n",
        "  train_df=temp_df[temp_df['Time Block and Date']<=training_last_date].reset_index(0,drop=True)\n",
        "  test_df=temp_df[temp_df['Time Block and Date']>training_last_date].reset_index(0,drop=True)\n",
        "\n",
        "  return train_df,test_df\n",
        " \n"
      ],
      "metadata": {
        "id": "jYRabn3jg8GP"
      },
      "execution_count": null,
      "outputs": []
    },
    {
      "cell_type": "code",
      "source": [
        "def selection_test_date_train_test_split(train_df=None,test_df=None,first_skip_columns=1):\n",
        "  X_train,y_train=train_df.iloc[:,first_skip_columns:-1],train_df.iloc[:,-1]\n",
        "  X_test,y_test=test_df.iloc[:,first_skip_columns:-1],test_df.iloc[:,-1]\n",
        "  return X_train,X_test,y_train,y_test\n"
      ],
      "metadata": {
        "id": "rQmAtdRtqLsh"
      },
      "execution_count": null,
      "outputs": []
    },
    {
      "cell_type": "markdown",
      "source": [
        "### Method 3: select training date interval  and test_date interval"
      ],
      "metadata": {
        "id": "ovKt5rfcShFj"
      }
    },
    {
      "cell_type": "code",
      "source": [
        "def selection_interval_train_test_data_generation(df=None,start_train_date=None,end_train_date=None,start_test_date=None,end_test_date=None):\n",
        "\n",
        "  train_df=df[(df['Time Block and Date']>=start_train_date) & (df['Time Block and Date']<end_train_date)].reset_index(0,drop=True)\n",
        "  print(end_test_date)\n",
        "  test_df=df[(df['Time Block and Date']>=start_test_date) & (df['Time Block and Date']<end_test_date)].reset_index(0,drop=True)\n",
        "\n",
        "\n",
        "  return train_df,test_df\n",
        " "
      ],
      "metadata": {
        "id": "zPDq97KFTnI4"
      },
      "execution_count": null,
      "outputs": []
    },
    {
      "cell_type": "code",
      "source": [
        "def selection_interval_train_test_split(train_df=None,test_df=None,first_skip_columns=1):\n",
        "  X_train,y_train=train_df.iloc[:,first_skip_columns:-1],train_df.iloc[:,-1]\n",
        "  X_test,y_test=test_df.iloc[:,first_skip_columns:-1],test_df.iloc[:,-1]\n",
        "  return X_train,X_test,y_train,y_test"
      ],
      "metadata": {
        "id": "Oq9PvftYX_19"
      },
      "execution_count": null,
      "outputs": []
    },
    {
      "cell_type": "code",
      "source": [
        "start_training_date=datetime(2022,10,29,0,0)\n",
        "end_training_date=datetime(2022,11,4,0,0)\n",
        "start_testing_date=datetime(2022,11,4,0,0)\n",
        "end_testing_date=datetime(2022,11,5,0,0)\n"
      ],
      "metadata": {
        "id": "8gMy52MeSg4Y"
      },
      "execution_count": null,
      "outputs": []
    },
    {
      "cell_type": "code",
      "source": [
        "train_df_interval,test_df_interval=selection_interval_train_test_data_generation(df=df1,start_train_date=start_training_date,end_train_date=end_training_date,start_test_date=start_testing_date,end_test_date=end_testing_date)"
      ],
      "metadata": {
        "id": "8_QeNs_wSNGB"
      },
      "execution_count": null,
      "outputs": []
    },
    {
      "cell_type": "code",
      "source": [
        "train_df_interval"
      ],
      "metadata": {
        "id": "JdpP0ovbX3Jt"
      },
      "execution_count": null,
      "outputs": []
    },
    {
      "cell_type": "code",
      "source": [
        "test_df_interval"
      ],
      "metadata": {
        "id": "SVIjiIK0X6GA"
      },
      "execution_count": null,
      "outputs": []
    },
    {
      "cell_type": "markdown",
      "source": [
        "## Trained and Test Model With Method 1:"
      ],
      "metadata": {
        "id": "kOn7QeLs-Ity"
      }
    },
    {
      "cell_type": "code",
      "source": [
        "df1"
      ],
      "metadata": {
        "id": "Je71yU_KADAk"
      },
      "execution_count": null,
      "outputs": []
    },
    {
      "cell_type": "code",
      "source": [
        "X,y=default_training_test_generation(df0=df1)\n",
        "X_train,X_test,y_train,y_test=train_split_data(X=X,y=y,test_size=0.09)"
      ],
      "metadata": {
        "id": "ZPpu7FTc9bKB"
      },
      "execution_count": null,
      "outputs": []
    },
    {
      "cell_type": "code",
      "source": [
        "test_date_list=get_index_test_date(df1,0.091).to_list()"
      ],
      "metadata": {
        "id": "RLJBv-UYTXg8"
      },
      "execution_count": null,
      "outputs": []
    },
    {
      "cell_type": "code",
      "source": [
        "len(test_date_list)"
      ],
      "metadata": {
        "id": "clV8hLiIYjc0"
      },
      "execution_count": null,
      "outputs": []
    },
    {
      "cell_type": "code",
      "source": [
        "len(y_test)"
      ],
      "metadata": {
        "id": "tLANKck7Vkyw"
      },
      "execution_count": null,
      "outputs": []
    },
    {
      "cell_type": "markdown",
      "source": [
        "\n",
        "#### Hyperparameter Find"
      ],
      "metadata": {
        "id": "snccn8AuJgce"
      }
    },
    {
      "cell_type": "code",
      "source": [
        "xgb_model=get_model()\n",
        "hyperpameter=get_the_parameter_xgb()\n",
        "\n",
        "grid_model=get_model_grid_search(model=xgb_model,parameters=hyperpameter)\n",
        "best_params=get_best_param(grid_model,X_train,y_train)\n",
        "\n",
        "model_best=get_model_parameter_set(parameters=best_params)\n",
        "model_best=hyperparameter_model_fit(model=model_best,X_feature=X_train,y_target=y_train)\n",
        "\n",
        "best_feature_list=get_importance_feature(model=model_best,columns=X_train.columns)\n",
        "\n",
        "plot_importance_feature(model=model_best,columns=X_train.columns)"
      ],
      "metadata": {
        "id": "ktRxwuKjJf6h"
      },
      "execution_count": null,
      "outputs": []
    },
    {
      "cell_type": "code",
      "source": [
        "y_pred_m1=model_best.predict(X_test)"
      ],
      "metadata": {
        "id": "p53jZLAdLDSW"
      },
      "execution_count": null,
      "outputs": []
    },
    {
      "cell_type": "code",
      "source": [
        "len(y_pred_m1)"
      ],
      "metadata": {
        "id": "qFGNK_ewNwRH"
      },
      "execution_count": null,
      "outputs": []
    },
    {
      "cell_type": "code",
      "source": [
        "acc_measure(y_true=y_test.to_numpy(),y_hat=y_pred_m1)"
      ],
      "metadata": {
        "id": "hSo6khXULI_B"
      },
      "execution_count": null,
      "outputs": []
    },
    {
      "cell_type": "markdown",
      "source": [
        "## Trained and Test Model With Method 2:"
      ],
      "metadata": {
        "id": "bl3Vu_NLalbu"
      }
    },
    {
      "cell_type": "code",
      "source": [
        "test_time=datetime(2022,11,2,23,45)"
      ],
      "metadata": {
        "id": "F-NXP51nJpQF"
      },
      "execution_count": null,
      "outputs": []
    },
    {
      "cell_type": "code",
      "source": [
        "train_df,test_df=selection_test_date_data_generation(df0=df1,test_date=test_time)"
      ],
      "metadata": {
        "id": "9Bk7aEwjqlic"
      },
      "execution_count": null,
      "outputs": []
    },
    {
      "cell_type": "code",
      "source": [
        "X_train,X_test,y_train,y_test=selection_test_date_train_test_split(train_df=train_df,test_df=test_df)"
      ],
      "metadata": {
        "id": "UH83Pcpba8VQ"
      },
      "execution_count": null,
      "outputs": []
    },
    {
      "cell_type": "code",
      "source": [
        "X_train"
      ],
      "metadata": {
        "id": "5sxyrRLydwdo"
      },
      "execution_count": null,
      "outputs": []
    },
    {
      "cell_type": "markdown",
      "source": [
        "#### Hyperparmeter M2"
      ],
      "metadata": {
        "id": "nnxEO7otbj8D"
      }
    },
    {
      "cell_type": "markdown",
      "source": [
        "  #### Xgboost\n",
        "\n",
        "\n"
      ],
      "metadata": {
        "id": "jK47sI5GwLd3"
      }
    },
    {
      "cell_type": "code",
      "source": [
        "xgb_model=get_model()\n",
        "hyperpameter=get_the_parameter_xgb()\n"
      ],
      "metadata": {
        "id": "h6oTH-dfwV-N"
      },
      "execution_count": null,
      "outputs": []
    },
    {
      "cell_type": "markdown",
      "source": [
        "#### Random Forest\n"
      ],
      "metadata": {
        "id": "AR_mD6XxxgUx"
      }
    },
    {
      "cell_type": "code",
      "source": [
        "# rf_model=get_model_rf()\n",
        "# hyperpameter_rf=get_the_parameter_rf()"
      ],
      "metadata": {
        "id": "tH9Yc31Dxf-7"
      },
      "execution_count": null,
      "outputs": []
    },
    {
      "cell_type": "code",
      "source": [
        "grid_model=get_model_grid_search(model=xgb_model,parameters=hyperpameter)\n",
        "best_params=get_best_param(grid_model,X_train,y_train)\n",
        "\n",
        "model_best=get_model_parameter_set(parameters=best_params)\n",
        "model_best=hyperparameter_model_fit(model=model_best,X_feature=X_train,y_target=y_train)\n",
        "\n",
        "best_feature_list=get_importance_feature(model=model_best,columns=X_train.columns)\n",
        "\n",
        "plot_importance_feature(model=model_best,columns=X_train.columns)"
      ],
      "metadata": {
        "id": "JoJF5nAYbnFv"
      },
      "execution_count": null,
      "outputs": []
    },
    {
      "cell_type": "code",
      "source": [
        "y_pred_m2=model_best.predict(X_test)"
      ],
      "metadata": {
        "id": "SaY6xVbtbpWn"
      },
      "execution_count": null,
      "outputs": []
    },
    {
      "cell_type": "code",
      "source": [
        "y_pred_m2"
      ],
      "metadata": {
        "id": "yZcmgmewdOIy"
      },
      "execution_count": null,
      "outputs": []
    },
    {
      "cell_type": "code",
      "source": [
        "acc_measure(y_true=y_test.to_numpy(),y_hat=y_pred_m2)"
      ],
      "metadata": {
        "id": "Uo0b3Zimck84"
      },
      "execution_count": null,
      "outputs": []
    },
    {
      "cell_type": "markdown",
      "source": [
        "## Trained and Test Model With Method 3:"
      ],
      "metadata": {
        "id": "G6osXg-s21Wz"
      }
    },
    {
      "cell_type": "code",
      "source": [
        "start_training_date=datetime(2022,10,30,0,0)\n",
        "end_training_date=datetime(2022,11,4,0,0)\n",
        "start_testing_date=datetime(2022,11,10,0,0)\n",
        "end_testing_date=datetime(2022,11,11,0,0)\n"
      ],
      "metadata": {
        "id": "_rqw6maQ27SR"
      },
      "execution_count": null,
      "outputs": []
    },
    {
      "cell_type": "code",
      "source": [
        "train_df_interval,test_df_interval=selection_interval_train_test_data_generation(df=df1,start_train_date=start_training_date,end_train_date=end_training_date,start_test_date=start_testing_date,end_test_date=end_testing_date)"
      ],
      "metadata": {
        "id": "89jiySG_27SS"
      },
      "execution_count": null,
      "outputs": []
    },
    {
      "cell_type": "code",
      "source": [
        "train_df_interval"
      ],
      "metadata": {
        "id": "Rqe7Ji5O27ST"
      },
      "execution_count": null,
      "outputs": []
    },
    {
      "cell_type": "code",
      "source": [
        "test_df_interval"
      ],
      "metadata": {
        "id": "EtcDzz-I27SU"
      },
      "execution_count": null,
      "outputs": []
    },
    {
      "cell_type": "code",
      "source": [
        "X_train,X_test,y_train,y_test=selection_interval_train_test_split(train_df=train_df_interval,test_df=test_df_interval)"
      ],
      "metadata": {
        "id": "de0djIIW1YzV"
      },
      "execution_count": null,
      "outputs": []
    },
    {
      "cell_type": "code",
      "source": [
        "xgb_model=get_model()\n",
        "hyperpameter=get_the_parameter_xgb()\n",
        "grid_model=get_model_grid_search(model=xgb_model,parameters=hyperpameter)\n",
        "best_params=get_best_param(grid_model,X_train,y_train)\n",
        "\n",
        "model_best=get_model_parameter_set(parameters=best_params)\n",
        "model_best=hyperparameter_model_fit(model=model_best,X_feature=X_train,y_target=y_train)\n"
      ],
      "metadata": {
        "id": "WC4m1XNe2xXe"
      },
      "execution_count": null,
      "outputs": []
    },
    {
      "cell_type": "code",
      "source": [
        "y_pred_m3=model_best.predict(X_test)\n",
        "acc_measure(y_true=y_test.to_numpy(),y_hat=y_pred_m3)"
      ],
      "metadata": {
        "id": "bU8TSND53wun"
      },
      "execution_count": null,
      "outputs": []
    },
    {
      "cell_type": "markdown",
      "source": [
        "## scroling window size training and test"
      ],
      "metadata": {
        "id": "stSdMmuUC4T7"
      }
    },
    {
      "cell_type": "code",
      "source": [
        "import dateutil\n",
        "from datetime import date,timedelta"
      ],
      "metadata": {
        "id": "Ojuq5vhyDCLI"
      },
      "execution_count": null,
      "outputs": []
    },
    {
      "cell_type": "code",
      "source": [
        "def chunk_training_test_date_generator(list_dates=[],window_size=3):\n",
        "  scroling_window_date_list=[]\n",
        "  for i in range(len(list_dates) - window_size + 1):\n",
        "      scroling_window_date_list.append(list_dates[i: i + window_size])\n",
        "  return scroling_window_date_list\n",
        "  \n"
      ],
      "metadata": {
        "id": "ogL03XY6Cli7"
      },
      "execution_count": null,
      "outputs": []
    },
    {
      "cell_type": "code",
      "source": [
        "def generate_all_dates(df0=None):\n",
        "    date_list_dataframe = list(\n",
        "    dateutil.rrule.rrule(dateutil.rrule.DAILY, \n",
        "                         dtstart=df0['Time Block and Date'][0],\n",
        "                         until=df0['Time Block and Date'].iloc[-1]))\n",
        "    return date_list_dataframe\n"
      ],
      "metadata": {
        "id": "uEr_fiNr529v"
      },
      "execution_count": null,
      "outputs": []
    },
    {
      "cell_type": "code",
      "source": [
        "def get_scorling_window_accuracy(df0,window_size=3):\n",
        "    list_all_dates=generate_all_dates(df0=df0)\n",
        "    chunk_list=chunk_training_test_date_generator(list_dates=list_all_dates,window_size=window_size)\n",
        "    testing_date_list=[]\n",
        "    list_testing_acc=[]\n",
        "    list_training_acc=[]\n",
        "    print(\"window_size:-\",window_size)\n",
        "    for chunk in chunk_list:\n",
        "        print(chunk)\n",
        "        testing_date_list.append(chunk[-1])\n",
        "        start_training_date=chunk[0]\n",
        "        end_training_date=chunk[-1]\n",
        "        start_testing_date=chunk[-1]\n",
        "        end_testing_date=chunk[-1]+timedelta(days=1)\n",
        "\n",
        "      \n",
        "        train_df_interval,test_df_interval=selection_interval_train_test_data_generation(df=df1,start_train_date=start_training_date,end_train_date=end_training_date,start_test_date=start_testing_date,end_test_date=end_testing_date)\n",
        "        X_train,X_test,y_train,y_test=selection_interval_train_test_split(train_df=train_df_interval,test_df=test_df_interval)\n",
        "        xgb_model=get_model()\n",
        "        hyperpameter=get_the_parameter_xgb()\n",
        "        grid_model=get_model_grid_search(model=xgb_model,parameters=hyperpameter)\n",
        "        best_params=get_best_param(grid_model,X_train,y_train)\n",
        "        \n",
        "\n",
        "        model_best=get_model_parameter_set(parameters=best_params)\n",
        "        model_best=hyperparameter_model_fit(model=model_best,X_feature=X_train,y_target=y_train)\n",
        "        y_pred_test_scroling_window=model_best.predict(X_test)\n",
        "        y_pred_train_scroling_window=model_best.predict(X_train)\n",
        "\n",
        "        acc_test=acc_measure(y_true=y_test.to_numpy(),y_hat=y_pred_test_scroling_window)\n",
        "        acc_train=acc_measure(y_true=y_train.to_numpy(),y_hat=y_pred_train_scroling_window)\n",
        "\n",
        "        list_testing_acc.append(acc_test)\n",
        "        list_training_acc.append(acc_train)\n",
        "        print(\"Best_parameter\",best_params)\n",
        "    \n",
        "\n",
        "        \n",
        "        \n",
        "    return {\"testing_dates\":testing_date_list,\"testing_acc\":list_testing_acc,\"training_acc\":list_training_acc}\n"
      ],
      "metadata": {
        "id": "B4fDW0e4FBPu"
      },
      "execution_count": null,
      "outputs": []
    },
    {
      "cell_type": "code",
      "source": [
        "result_df=get_scorling_window_accuracy(df0=df1,window_size=20)"
      ],
      "metadata": {
        "id": "_KdP5RiHIGXZ"
      },
      "execution_count": null,
      "outputs": []
    },
    {
      "cell_type": "code",
      "source": [
        "result_df"
      ],
      "metadata": {
        "id": "vnOA3DKDQwyw"
      },
      "execution_count": null,
      "outputs": []
    },
    {
      "cell_type": "code",
      "source": [
        "result_df_form=pd.DataFrame(result_df)"
      ],
      "metadata": {
        "id": "8oI6PRBtTnJS"
      },
      "execution_count": null,
      "outputs": []
    },
    {
      "cell_type": "markdown",
      "source": [],
      "metadata": {
        "id": "pbac6dUxvHr9"
      }
    },
    {
      "cell_type": "code",
      "source": [
        "result_df_form"
      ],
      "metadata": {
        "id": "Z6J9_6qIbQz-"
      },
      "execution_count": null,
      "outputs": []
    },
    {
      "cell_type": "code",
      "source": [
        "result_df_form.describe()"
      ],
      "metadata": {
        "id": "vHprY3PHTsEx"
      },
      "execution_count": null,
      "outputs": []
    },
    {
      "cell_type": "code",
      "source": [],
      "metadata": {
        "id": "lMrME3E8g3co"
      },
      "execution_count": null,
      "outputs": []
    },
    {
      "cell_type": "markdown",
      "source": [
        "## Experment Code start(Trash)\n",
        "\n"
      ],
      "metadata": {
        "id": "f7kSmeyV6DLt"
      }
    },
    {
      "cell_type": "markdown",
      "source": [
        "\n",
        "### experiment xgboost function training and testing generalize"
      ],
      "metadata": {
        "id": "n9krD4gNg4Gr"
      }
    },
    {
      "cell_type": "code",
      "source": [],
      "metadata": {
        "id": "CSCopODMhCQ7"
      },
      "execution_count": null,
      "outputs": []
    },
    {
      "cell_type": "markdown",
      "metadata": {
        "id": "aS51X3531Izs"
      },
      "source": [
        "## dart experiment start"
      ]
    },
    {
      "cell_type": "code",
      "source": [],
      "metadata": {
        "id": "lenA-_dcYyzS"
      },
      "execution_count": null,
      "outputs": []
    },
    {
      "cell_type": "markdown",
      "source": [
        "#### filter df by using date we want to predict"
      ],
      "metadata": {
        "id": "pH5NkRYc4F0m"
      }
    },
    {
      "cell_type": "code",
      "source": [
        "df1.columns"
      ],
      "metadata": {
        "id": "65rRMVamY0jA"
      },
      "execution_count": null,
      "outputs": []
    },
    {
      "cell_type": "code",
      "source": [
        "df1['Time Block and Date'].unique()"
      ],
      "metadata": {
        "id": "pWoQpuRqZa07"
      },
      "execution_count": null,
      "outputs": []
    },
    {
      "cell_type": "code",
      "source": [
        "target_date=\"2022-11-10 00:00:00\""
      ],
      "metadata": {
        "id": "tltlxrg13ym-"
      },
      "execution_count": null,
      "outputs": []
    },
    {
      "cell_type": "code",
      "source": [
        "def get_target_df(df1,target_date):\n",
        "  datetime_str = datetime.datetime.strptime(target_date, \"%Y-%m-%d %H:%M:%S\")\n",
        "  target_df=df1[df1[\"Time Block and Date\"]<=datetime_str]\n",
        "  return target_df"
      ],
      "metadata": {
        "id": "pEMXM88lKDq0"
      },
      "execution_count": null,
      "outputs": []
    },
    {
      "cell_type": "code",
      "source": [
        "def target_date_format(datetime_str=None):\n",
        "  datetime_str = datetime.datetime.strptime(target_date, \"%Y-%m-%d %H:%M:%S\")\n",
        "  return datetime_str"
      ],
      "metadata": {
        "id": "NkkMXl3N3FfQ"
      },
      "execution_count": null,
      "outputs": []
    },
    {
      "cell_type": "code",
      "source": [
        "datetime_str = datetime.datetime.strptime(target_date, \"%Y-%m-%d %H:%M:%S\")"
      ],
      "metadata": {
        "id": "wJEbmI1eIvEi"
      },
      "execution_count": null,
      "outputs": []
    },
    {
      "cell_type": "code",
      "source": [
        "datetime_str"
      ],
      "metadata": {
        "id": "q-jOaEJJJCIW"
      },
      "execution_count": null,
      "outputs": []
    },
    {
      "cell_type": "code",
      "source": [
        "\n",
        "df1=df1[df1[\"Time Block and Date\"]<datetime_str]"
      ],
      "metadata": {
        "id": "KH6VEorLH_9Z"
      },
      "execution_count": null,
      "outputs": []
    },
    {
      "cell_type": "code",
      "source": [
        "df1"
      ],
      "metadata": {
        "id": "e3giFCLnIYly"
      },
      "execution_count": null,
      "outputs": []
    },
    {
      "cell_type": "markdown",
      "metadata": {
        "id": "zXNjmze61Izt"
      },
      "source": [
        "## convert dataframe to time series\n"
      ]
    },
    {
      "cell_type": "code",
      "source": [
        "def convert_df_to_train_test(df=None):\n",
        "  '''split data into last test date and training date'''\n",
        "  X_train,X_test=df1.iloc[:-96,:-1],df1.iloc[-96:,:-1]\n",
        "  y_train,y_test=df1.iloc[:-96,[0,-1]],df1.iloc[-96:,[0,-1]]\n",
        "\n",
        "  return X_train,X_test,y_train,y_test\n",
        "  "
      ],
      "metadata": {
        "id": "9Y9JuNQB4Qo8"
      },
      "execution_count": null,
      "outputs": []
    },
    {
      "cell_type": "code",
      "source": [
        "def convert_train_test_to_time_series(_x_train=None,x_test=None,y_train=None,y_test=None):\n",
        "  X_train=TimeSeries.from_dataframe(X_train,time_col=\"Time Block and Date\",value_cols=X_train.columns[1:].to_list(),fill_missing_dates=True)\n",
        "  X_test=TimeSeries.from_dataframe(X_test,time_col=\"Time Block and Date\",value_cols=X_test.columns[1:].to_list(),fill_missing_dates=True)\n",
        "  y_train=TimeSeries.from_dataframe(y_train,time_col=\"Time Block and Date\",value_cols=y_train.columns[1],fill_missing_dates=True)\n",
        "  y_test=TimeSeries.from_dataframe(y_test,time_col=\"Time Block and Date\",value_cols=y_test.columns[1],fill_missing_dates=True)\n",
        "  return X_train,X_test,y_train,y_test"
      ],
      "metadata": {
        "id": "25XFY1QN4egs"
      },
      "execution_count": null,
      "outputs": []
    },
    {
      "cell_type": "code",
      "source": [
        "validation_day=5"
      ],
      "metadata": {
        "id": "9fMdkEt27npL"
      },
      "execution_count": null,
      "outputs": []
    },
    {
      "cell_type": "code",
      "source": [
        "window=96"
      ],
      "metadata": {
        "id": "s_OW3HS3av69"
      },
      "execution_count": null,
      "outputs": []
    },
    {
      "cell_type": "markdown",
      "source": [
        "## validation cov_t prepare"
      ],
      "metadata": {
        "id": "Q0qhcgahjnOY"
      }
    },
    {
      "cell_type": "code",
      "source": [
        "cov_t=TimeSeries.from_dataframe(df1,time_col=\"Time Block and Date\",value_cols=df1.columns[1:-1].to_list(),fill_missing_dates=True)"
      ],
      "metadata": {
        "id": "st4mYXctfm5j"
      },
      "execution_count": null,
      "outputs": []
    },
    {
      "cell_type": "code",
      "source": [
        "cov_t_m = datetime_attribute_timeseries(cov_t.time_index, attribute=\"minute\")   # 48 hours beyond end of test set to prepare for out-of-sample forecasting\n",
        "cov_t_w = datetime_attribute_timeseries(cov_t.time_index, attribute=\"weekday\")"
      ],
      "metadata": {
        "id": "tIQObGpIgDLy"
      },
      "execution_count": null,
      "outputs": []
    },
    {
      "cell_type": "code",
      "source": [
        "cov_t=cov_t.concatenate(cov_t_m,axis=1)\n",
        "cov_t=cov_t.concatenate(cov_t_w,axis=1)\n"
      ],
      "metadata": {
        "id": "gb4YifSZgSY_"
      },
      "execution_count": null,
      "outputs": []
    },
    {
      "cell_type": "code",
      "source": [
        "cov_t.columns"
      ],
      "metadata": {
        "id": "6UlSX0z_hBMT"
      },
      "execution_count": null,
      "outputs": []
    },
    {
      "cell_type": "code",
      "source": [
        "X_train,X_test=df1.iloc[:validation_day*(-window),:-1],df1.iloc[validation_day*(-window):,:-1]\n",
        "y_train,y_test=df1.iloc[:validation_day*(-window),[0,-1]],df1.iloc[validation_day*(-window):,[0,-1]]"
      ],
      "metadata": {
        "id": "ZuqmBs7a5Kvi"
      },
      "execution_count": null,
      "outputs": []
    },
    {
      "cell_type": "code",
      "execution_count": null,
      "metadata": {
        "id": "4AHFyM_b1Izt"
      },
      "outputs": [],
      "source": [
        "# X_train,X_test=df1.iloc[:-96,:-1],df1.iloc[-96:,:-1]\n",
        "# y_train,y_test=df1.iloc[:-96,[0,-1]],df1.iloc[-96:,[0,-1]]"
      ]
    },
    {
      "cell_type": "code",
      "source": [
        "X_train.columns"
      ],
      "metadata": {
        "id": "lLhmHKXUnMjm"
      },
      "execution_count": null,
      "outputs": []
    },
    {
      "cell_type": "code",
      "execution_count": null,
      "metadata": {
        "id": "xS1yf1yC1Izt"
      },
      "outputs": [],
      "source": [
        "X_train=TimeSeries.from_dataframe(X_train,time_col=\"Time Block and Date\",value_cols=X_train.columns[1:].to_list(),fill_missing_dates=True)\n",
        "X_test=TimeSeries.from_dataframe(X_test,time_col=\"Time Block and Date\",value_cols=X_test.columns[1:].to_list(),fill_missing_dates=True)\n"
      ]
    },
    {
      "cell_type": "code",
      "execution_count": null,
      "metadata": {
        "id": "zd3Dvksq1Izt"
      },
      "outputs": [],
      "source": [
        "y_train=TimeSeries.from_dataframe(y_train,time_col=\"Time Block and Date\",value_cols=y_train.columns[1],fill_missing_dates=True)\n",
        "y_test=TimeSeries.from_dataframe(y_test,time_col=\"Time Block and Date\",value_cols=y_test.columns[1],fill_missing_dates=True)"
      ]
    },
    {
      "cell_type": "markdown",
      "source": [
        "\n",
        "### Train Covariates"
      ],
      "metadata": {
        "id": "t4LpEaegnQ20"
      }
    },
    {
      "cell_type": "code",
      "source": [
        "def convert_time_series_data_to_X_covariates(X_train=None,X_test=None):\n",
        "  covT_train = datetime_attribute_timeseries(X_train.time_index, attribute=\"minute\")   # 48 hours beyond end of test set to prepare for out-of-sample forecasting\n",
        "  covT_train = covT_train.stack(  datetime_attribute_timeseries(covT_train.time_index, attribute=\"weekday\"))\n",
        "  covT_train=covT_train.concatenate(X_train,axis=1)\n",
        "  covT_test = datetime_attribute_timeseries(X_test.time_index, attribute=\"minute\")   # 48 hours beyond end of test set to prepare for out-of-sample forecasting\n",
        "  covT_test = covT_test.stack(  datetime_attribute_timeseries(covT_test.time_index, attribute=\"weekday\"))\n",
        "  covT_test=covT_test.concatenate(X_train,axis=1)\n",
        "  return covT_train,covT_test\n",
        "  \n"
      ],
      "metadata": {
        "id": "5R7KPygO5VDV"
      },
      "execution_count": null,
      "outputs": []
    },
    {
      "cell_type": "code",
      "source": [
        "covT_train = datetime_attribute_timeseries(X_train.time_index, attribute=\"minute\")   # 48 hours beyond end of test set to prepare for out-of-sample forecasting\n",
        "covT_train = covT_train.stack(  datetime_attribute_timeseries(covT_train.time_index, attribute=\"weekday\"))\n",
        "# covT_train = covT_train.stack(  datetime_attribute_timeseries(covT_train.time_index, attribute=\"month\")  )\n",
        "# covT_train = covT_train.stack(  datetime_attribute_timeseries(covT_train.time_index, attribute=\"year\")  )"
      ],
      "metadata": {
        "id": "rL0LzU44mFU7"
      },
      "execution_count": null,
      "outputs": []
    },
    {
      "cell_type": "code",
      "source": [
        "covT_train=covT_train.concatenate(X_train,axis=1)"
      ],
      "metadata": {
        "id": "2uzTjcdOJMdf"
      },
      "execution_count": null,
      "outputs": []
    },
    {
      "cell_type": "markdown",
      "source": [
        "### Test Covarites"
      ],
      "metadata": {
        "id": "BZOK83ltnabM"
      }
    },
    {
      "cell_type": "code",
      "source": [
        "covT_test = datetime_attribute_timeseries(X_test.time_index, attribute=\"minute\")   # 48 hours beyond end of test set to prepare for out-of-sample forecasting\n",
        "# covT_test = covT_test.stack(  datetime_attribute_timeseries(covT_test.time_index, attribute=\"day_of_week\")  )\n",
        "# covT_test = covT_test.stack(  datetime_attribute_timeseries(covT_test.time_index, attribute=\"month\")  )\n",
        "# covT_test = covT_test.stack(  datetime_attribute_timeseries(covT_test.time_index, attribute=\"year\")  )"
      ],
      "metadata": {
        "id": "avUYRx8KnQht"
      },
      "execution_count": null,
      "outputs": []
    },
    {
      "cell_type": "code",
      "source": [
        "covT_test=covT_test.concatenate(X_test,axis=1)"
      ],
      "metadata": {
        "id": "moN89k9NipNG"
      },
      "execution_count": null,
      "outputs": []
    },
    {
      "cell_type": "markdown",
      "source": [
        "## y_train Covariate"
      ],
      "metadata": {
        "id": "7oz4kWZCpuQr"
      }
    },
    {
      "cell_type": "code",
      "source": [
        "y_test"
      ],
      "metadata": {
        "id": "oddHuW039bKb"
      },
      "execution_count": null,
      "outputs": []
    },
    {
      "cell_type": "code",
      "source": [
        "# def convert_time_series_data_to_Y_covariates(y_train=None,y_test=None):\n",
        "#   covT_y_train = datetime_attribute_timeseries( y_train.time_index, attribute=\"minute\")"
      ],
      "metadata": {
        "id": "LkopEZlr8iAY"
      },
      "execution_count": null,
      "outputs": []
    },
    {
      "cell_type": "code",
      "source": [
        "covT_y_train = datetime_attribute_timeseries( y_train.time_index, attribute=\"minute\")   # 48 hours beyond end of y_train set to prepare for out-of-sample forecasting\n",
        "# covT_y_train = covT_y_train.stack(  datetime_attribute_timeseries(covT_y_train.time_index, attribute=\"weekday\")  )\n",
        "# covT_y_train = covT_y_train.stack(  datetime_attribute_timeseries(covT_y_train.time_index, attribute=\"month\")  )\n",
        "# covT_y_train = covT_y_train.stack(  datetime_attribute_timeseries(covT_y_train.time_index, attribute=\"year\")  )"
      ],
      "metadata": {
        "id": "L1lln2nLpsos"
      },
      "execution_count": null,
      "outputs": []
    },
    {
      "cell_type": "code",
      "source": [
        "y_train"
      ],
      "metadata": {
        "id": "RXA2TEu2dnbn"
      },
      "execution_count": null,
      "outputs": []
    },
    {
      "cell_type": "markdown",
      "metadata": {
        "id": "FggavBrA1Izu"
      },
      "source": [
        "## scaling"
      ]
    },
    {
      "cell_type": "code",
      "execution_count": null,
      "metadata": {
        "id": "kmSe0y4t1Izu"
      },
      "outputs": [],
      "source": [
        "# from darts.dataprocessing.transformers import Scaler\n",
        "# X_train_scaler, y_train_scaler = Scaler(), Scaler()\n",
        "# covT_train_scaled = X_train_scaler.fit_transform(covT_train)\n",
        "# y_train_scaled = y_train_scaler.fit_transform(covT_y_train)"
      ]
    },
    {
      "cell_type": "markdown",
      "source": [
        "## Custom Metrice Design "
      ],
      "metadata": {
        "id": "kZUusDsEu53r"
      }
    },
    {
      "cell_type": "code",
      "source": [
        "!pip install pytorch-lightning"
      ],
      "metadata": {
        "id": "fMIEcjZlvIk0"
      },
      "execution_count": null,
      "outputs": []
    },
    {
      "cell_type": "code",
      "source": [
        "import pytorch_lightning"
      ],
      "metadata": {
        "id": "Ikaadez_vYW9"
      },
      "execution_count": null,
      "outputs": []
    },
    {
      "cell_type": "code",
      "source": [
        "!pip install torchmetrics"
      ],
      "metadata": {
        "id": "wFGNIuGgv3Dp"
      },
      "execution_count": null,
      "outputs": []
    },
    {
      "cell_type": "code",
      "source": [
        "# from torchmetrics import Metric\n",
        "\n",
        "# class MyAccuracy(Metric):\n",
        "#     def __init__(self):\n",
        "#         super().__init__()\n",
        "#         self.add_state(\"correct\", default=torch.tensor(0), dist_reduce_fx=\"sum\")\n",
        "#         self.add_state(\"total\", default=torch.tensor(0), dist_reduce_fx=\"sum\")\n",
        "\n",
        "#     def update(self, preds: torch.Tensor, target: torch.Tensor):\n",
        "#         preds, target = self._input_format(preds, target)\n",
        "#         assert preds.shape == target.shape\n",
        "        \n",
        "        \n",
        "#         self.correct = torch.abs(target-preds)\n",
        "#         self.correct=self.correct[self.correct<10].size()\n",
        "#         self.total = target.size()\n",
        "\n",
        "#     def compute(self):\n",
        "#         return self.correct.float() / self.total.float()"
      ],
      "metadata": {
        "id": "zVMTZHnvtC92"
      },
      "execution_count": null,
      "outputs": []
    },
    {
      "cell_type": "code",
      "source": [
        "# import torch "
      ],
      "metadata": {
        "id": "f9nCk5AQxKPm"
      },
      "execution_count": null,
      "outputs": []
    },
    {
      "cell_type": "code",
      "source": [
        "# def acc_custom_metric(y_predictions, target):\n",
        "#   abs_val = torch.abs(y_predictions - target)\n",
        "#   abs_val=abs_val[abs_val<10]\n",
        "#   return len(abs_val)\n"
      ],
      "metadata": {
        "id": "RwJ84cX9wrSK"
      },
      "execution_count": null,
      "outputs": []
    },
    {
      "cell_type": "markdown",
      "source": [
        "## model training"
      ],
      "metadata": {
        "id": "mA97r2_voQYK"
      }
    },
    {
      "cell_type": "code",
      "source": [
        "covT_train"
      ],
      "metadata": {
        "id": "dlfHqmfDGJbD"
      },
      "execution_count": null,
      "outputs": []
    },
    {
      "cell_type": "code",
      "source": [
        "!nvidia-smi"
      ],
      "metadata": {
        "id": "ThIHswT8PMo3"
      },
      "execution_count": null,
      "outputs": []
    },
    {
      "cell_type": "code",
      "source": [
        "covT_test"
      ],
      "metadata": {
        "id": "kE3bFTT-cE8P"
      },
      "execution_count": null,
      "outputs": []
    },
    {
      "cell_type": "code",
      "source": [
        "from torchmetrics import MeanAbsolutePercentageError"
      ],
      "metadata": {
        "id": "w56wUtWxVgmS"
      },
      "execution_count": null,
      "outputs": []
    },
    {
      "cell_type": "markdown",
      "source": [
        "### model fitting "
      ],
      "metadata": {
        "id": "j5U8FPOklwYg"
      }
    },
    {
      "cell_type": "code",
      "execution_count": null,
      "metadata": {
        "id": "Rq9_-aac1Izv"
      },
      "outputs": [],
      "source": [
        "model_mcp = NBEATSModel(input_chunk_length=96*4, output_chunk_length=96, n_epochs=4, random_state=0,force_reset=True,batch_size=16,\n",
        "    pl_trainer_kwargs={\n",
        "      \"accelerator\": \"gpu\",\n",
        "      \"devices\": [0]\n",
        "    },torch_metrics= MeanAbsolutePercentageError(),\n",
        "    model_name=\"NBEATS_EnergyIND\",\n",
        "    log_tensorboard=True,\n",
        "    generic_architecture=True, \n",
        "    save_checkpoints=True)\n",
        "model_mcp.fit(series=y_train,past_covariates=cov_t,val_series=y_test,\n",
        "                val_past_covariates=cov_t,verbose=True)"
      ]
    },
    {
      "cell_type": "code",
      "source": [],
      "metadata": {
        "id": "k1ttPZ85PBXE"
      },
      "execution_count": null,
      "outputs": []
    },
    {
      "cell_type": "code",
      "source": [
        "# Load the TensorBoard notebook extension\n",
        "%load_ext tensorboard"
      ],
      "metadata": {
        "id": "HfPen4quhm_5"
      },
      "execution_count": null,
      "outputs": []
    },
    {
      "cell_type": "code",
      "source": [
        "%tensorboard --logdir /content/darts_logs/NBEATS_EnergyES/logs\n"
      ],
      "metadata": {
        "id": "9uUHB94GnCeJ"
      },
      "execution_count": null,
      "outputs": []
    },
    {
      "cell_type": "code",
      "execution_count": null,
      "metadata": {
        "id": "Jsp_5ZxA1Izv"
      },
      "outputs": [],
      "source": [
        "pred = model_mcp.predict(n=96,  past_covariates=covT_train)\n"
      ]
    },
    {
      "cell_type": "code",
      "source": [
        "model_mcp.batch_norm"
      ],
      "metadata": {
        "id": "03FzgH5MGaHf"
      },
      "execution_count": null,
      "outputs": []
    },
    {
      "cell_type": "code",
      "source": [
        "dir(model_mcp)"
      ],
      "metadata": {
        "id": "jraF0bgHAi58"
      },
      "execution_count": null,
      "outputs": []
    },
    {
      "cell_type": "code",
      "source": [
        "model_mcp.model_params"
      ],
      "metadata": {
        "id": "-Pn_BU6BA6EK"
      },
      "execution_count": null,
      "outputs": []
    },
    {
      "cell_type": "code",
      "source": [
        "import shutil\n",
        "shutil.make_archive(\"dart_log\", 'zip', \"/content/darts_logs\")"
      ],
      "metadata": {
        "id": "GWstnk_HqmVL"
      },
      "execution_count": null,
      "outputs": []
    },
    {
      "cell_type": "code",
      "source": [
        "pred"
      ],
      "metadata": {
        "id": "mXQ7VZv1NwwI"
      },
      "execution_count": null,
      "outputs": []
    },
    {
      "cell_type": "code",
      "source": [
        "plt.figure(figsize=(10,10))\n",
        "pred = model_mcp.predict(n=96*5)\n",
        "pred.plot(label='forecast')\n",
        "plt.legend();\n"
      ],
      "metadata": {
        "id": "nHHXA4JC-Cfd"
      },
      "execution_count": null,
      "outputs": []
    },
    {
      "cell_type": "code",
      "source": [],
      "metadata": {
        "id": "fEwONY0Wmdv5"
      },
      "execution_count": null,
      "outputs": []
    },
    {
      "cell_type": "code",
      "source": [
        "plt.figure(figsize=(50,10))\n",
        "y_test.plot(label='real')\n",
        "pred.plot(label='forecast')\n",
        "plt.legend();"
      ],
      "metadata": {
        "id": "cB9R2whX-KUW"
      },
      "execution_count": null,
      "outputs": []
    },
    {
      "cell_type": "code",
      "source": [
        "\n",
        "y_hat=pred.values()"
      ],
      "metadata": {
        "id": "OF0M2UlL-VWO"
      },
      "execution_count": null,
      "outputs": []
    },
    {
      "cell_type": "code",
      "source": [
        "y_test_true=y_test.values()"
      ],
      "metadata": {
        "id": "j5Xp2mfu_jjf"
      },
      "execution_count": null,
      "outputs": []
    },
    {
      "cell_type": "code",
      "source": [
        "pred"
      ],
      "metadata": {
        "id": "O6QH3iK-iqJa"
      },
      "execution_count": null,
      "outputs": []
    },
    {
      "cell_type": "code",
      "source": [
        "acc_measure(y_hat=list(y_hat),y_true=list(y_test_true))"
      ],
      "metadata": {
        "id": "GiNsUjRz_oP5"
      },
      "execution_count": null,
      "outputs": []
    },
    {
      "cell_type": "code",
      "source": [],
      "metadata": {
        "id": "J8jR4WAVNkez"
      },
      "execution_count": null,
      "outputs": []
    },
    {
      "cell_type": "markdown",
      "source": [
        "## trash code"
      ],
      "metadata": {
        "id": "ctTgsrum-pUK"
      }
    },
    {
      "cell_type": "code",
      "source": [
        "covT_test"
      ],
      "metadata": {
        "id": "adOE1s4O_N1S"
      },
      "execution_count": null,
      "outputs": []
    },
    {
      "cell_type": "markdown",
      "metadata": {
        "id": "u9ot6S4p1Izv"
      },
      "source": [
        "#### Time block wise data selection"
      ]
    },
    {
      "cell_type": "code",
      "execution_count": null,
      "metadata": {
        "id": "hyqMHB9j1Izw"
      },
      "outputs": [],
      "source": [
        "df1.columns"
      ]
    },
    {
      "cell_type": "code",
      "execution_count": null,
      "metadata": {
        "id": "hHWy8rml1Izw"
      },
      "outputs": [],
      "source": [
        "time_block_list=df1['Time Block'].unique()\n",
        "time_block_list"
      ]
    },
    {
      "cell_type": "code",
      "source": [],
      "metadata": {
        "id": "W_rh4OU6DCBq"
      },
      "execution_count": null,
      "outputs": []
    }
  ]
}